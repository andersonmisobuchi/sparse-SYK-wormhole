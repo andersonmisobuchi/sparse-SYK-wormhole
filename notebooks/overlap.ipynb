{
 "cells": [
  {
   "cell_type": "markdown",
   "metadata": {},
   "source": [
    "# Ground state and TFD overlap in two coupled sparse SYKs"
   ]
  },
  {
   "cell_type": "markdown",
   "metadata": {},
   "source": [
    "In this notebook we consider two copies of the sparse SYK system and we add an interaction between them. The Hamiltonian for the full system looks like\n",
    "\n",
    "$$ H = H_L\\otimes\\mathbb{I} + \\mathbb{I}\\otimes H_R + H_\\text{int}, \\qquad H_\\text{int} = i\\mu \\sum_j \\chi_L^j\\chi_R^j, $$\n",
    "where $H_L$ and $H_R$ are respectively the left and right copy of the SYK model. Each SYK system has $N$ Majorana fermions, so that the coupled system has $2N$ Majoranas in total. In the numerical implementation, we organize the fermion indices as $1,\\ldots,N$ to belong to the left system and $N+1,\\ldots, 2N$ to belong to the right system.\n",
    "\n",
    "The thermofield double state (TFD) at inverse temperature $\\beta$ is defined as\n",
    "\n",
    "$$|\\text{TFD}_\\beta\\rangle = \\sum_n e^{-\\frac{\\beta E_n}{2}}|E_n\\rangle_L\\otimes|E_n\\rangle^*_R,$$\n",
    "\n",
    "where $|E_n\\rangle_{L/R}$ are the eigenstates of the $L/R$ system and $*$ denotes complex conjugation. The TFD state is a purification of a thermal state, in the sense that the reduced density matrix \n",
    "\n",
    "$$\\rho_L = \\text{Tr}_R|TFD_\\beta\\rangle\\langle TFD_\\beta|$$\n",
    "\n",
    "is a thermal density matrix of the left system.\n",
    "\n",
    "In general, the Hamiltonian $H_L\\otimes\\mathbb{I}+\\mathbb{I}\\otimes H_R$ does not admit a TFD as its ground state, but it urns out that wee can obtain a good approximation for the TFD state from the ground state the two coupled system, with the temperature of the TFD being determined by the coupling strength $\\mu$. When $\\mu\\to0$ we obtain the zero temperature TFD state, and when $\\mu\\to\\infty$ we get the infinite temperature TFD."
   ]
  },
  {
   "cell_type": "code",
   "execution_count": 1,
   "metadata": {},
   "outputs": [],
   "source": [
    "import numpy as np\n",
    "from scipy.special import binom\n",
    "from math import factorial\n",
    "from dynamite.computations import eigsolve\n",
    "from dynamite.extras import majorana\n",
    "from dynamite.operators import op_sum, op_product\n",
    "from dynamite.states import State\n",
    "from dynamite import config\n",
    "import matplotlib as mpl\n",
    "import matplotlib.pyplot as plt\n",
    "\n",
    "import sys\n",
    "sys.path.append('..')\n",
    "from Hypergraph import regular_hypergraph\n",
    "from Hamiltonian import print_tex"
   ]
  },
  {
   "cell_type": "markdown",
   "metadata": {},
   "source": [
    "### Set test parameters"
   ]
  },
  {
   "cell_type": "code",
   "execution_count": 2,
   "metadata": {},
   "outputs": [],
   "source": [
    "N = 10        # Number of Majorana fermions for single SYK\n",
    "k = 1         # Sparsity paramter\n",
    "q = 4         # Sets q-body interaction\n",
    "mu = 0.2      # Coupling strength\n",
    "config.L = N  # 2N Majorana -> N qubits"
   ]
  },
  {
   "cell_type": "markdown",
   "metadata": {
    "tags": []
   },
   "source": [
    "###  Construct two coupled sparse SYK Hamiltonian"
   ]
  },
  {
   "cell_type": "code",
   "execution_count": 3,
   "metadata": {},
   "outputs": [],
   "source": [
    "# Define uncoupled Hamiltonian H_L + H_R\n",
    "def hamiltonian_uncoupled(N, k, q, hyperedges, random_seed):\n",
    "    \n",
    "    np.random.seed(random_seed)\n",
    "    # Use variance with convention J=1\n",
    "    p = k*N/binom(N, q)\n",
    "    couplings = np.sqrt( factorial(q-1) / (p * N**(q-1) * 2**q) )*np.random.randn(len(hyperedges))\n",
    "    factor = dict(zip(hyperedges, couplings))\n",
    "    majs = [majorana(i) for i in range(2*N)]\n",
    "    HL = op_sum((op_product(majs[i] for i in idxs).scale(factor[idxs]) for idxs in hyperedges), nshow=len(hyperedges))\n",
    "    HR = op_sum((op_product(majs[i+N] for i in idxs).scale(factor[idxs]) for idxs in hyperedges), nshow=len(hyperedges))\n",
    "    return op_sum([HL, HR])\n",
    "\n",
    "# H_int Hamiltonian\n",
    "def hamiltonian_int(N, k, q, mu):\n",
    "    majs = [majorana(i) for i in range(2*N)]\n",
    "    HI = op_sum((op_product([majs[i], majs[i+N]]) for i in range(N)), nshow=N).scale(1j*mu/2)\n",
    "    return HI"
   ]
  },
  {
   "cell_type": "markdown",
   "metadata": {},
   "source": [
    "**Two coupled Hamiltonian example**"
   ]
  },
  {
   "cell_type": "code",
   "execution_count": 4,
   "metadata": {},
   "outputs": [
    {
     "name": "stdout",
     "output_type": "stream",
     "text": [
      "   coeff. |  operator  \n",
      "=======================\n",
      "   -0.157 | Z--Z------\n",
      "   -0.036 | XXXZX-----\n",
      "   -0.087 | -ZXY------\n",
      "   -0.199 | XZZXZ-----\n",
      "    0.166 | YYZ-------\n",
      "    0.087 | -XZ-Y-----\n",
      "    0.084 | Z-YZY-----\n",
      "    0.013 | YYYY------\n",
      " 9.16e-03 | -YYYX-----\n",
      "    0.036 | -YX-Z-----\n",
      "   -0.157 | -----Z--Z-\n",
      "   -0.036 | -----XXXZX\n",
      "   -0.087 | ------ZXY-\n",
      "   -0.199 | -----XZZXZ\n",
      "    0.166 | -----YYZ--\n",
      "    0.087 | ------XZ-Y\n",
      "    0.084 | -----Z-YZY\n",
      "    0.013 | -----YYYY-\n",
      " 9.16e-03 | ------YYYX\n",
      "    0.036 | ------YX-Z\n",
      "    0.100 | YZZZZX----\n",
      "   -0.100 | XZZZZY----\n",
      "    0.100 | -YZZZZX---\n",
      "   -0.100 | -XZZZZY---\n",
      "    0.100 | --YZZZZX--\n",
      "   -0.100 | --XZZZZY--\n",
      "    0.100 | ---YZZZZX-\n",
      "   -0.100 | ---XZZZZY-\n",
      "    0.100 | ----YZZZZX\n",
      "   -0.100 | ----XZZZZY\n"
     ]
    },
    {
     "data": {
      "text/latex": [
       "$\\displaystyle 0.157\\chi_{0}\\chi_{1}\\chi_{6}\\chi_{7} + 0.036\\chi_{1}\\chi_{2}\\chi_{5}\\chi_{8} + 0.087\\chi_{2}\\chi_{3}\\chi_{5}\\chi_{7} + 0.199\\chi_{1}\\chi_{6}\\chi_{8}\\chi_{9} + 0.166\\chi_{0}\\chi_{3}\\chi_{4}\\chi_{5} -0.087\\chi_{3}\\chi_{6}\\chi_{7}\\chi_{9} + 0.084\\chi_{0}\\chi_{1}\\chi_{4}\\chi_{9} -0.013\\chi_{0}\\chi_{3}\\chi_{4}\\chi_{7} -0.009\\chi_{2}\\chi_{5}\\chi_{6}\\chi_{8} + 0.036\\chi_{2}\\chi_{4}\\chi_{8}\\chi_{9} + 0.157\\chi_{10}\\chi_{11}\\chi_{16}\\chi_{17} + 0.036\\chi_{11}\\chi_{12}\\chi_{15}\\chi_{18} + 0.087\\chi_{12}\\chi_{13}\\chi_{15}\\chi_{17} + 0.199\\chi_{11}\\chi_{16}\\chi_{18}\\chi_{19} + 0.166\\chi_{10}\\chi_{13}\\chi_{14}\\chi_{15} -0.087\\chi_{13}\\chi_{16}\\chi_{17}\\chi_{19} + 0.084\\chi_{10}\\chi_{11}\\chi_{14}\\chi_{19} -0.013\\chi_{10}\\chi_{13}\\chi_{14}\\chi_{17} -0.009\\chi_{12}\\chi_{15}\\chi_{16}\\chi_{18} + 0.036\\chi_{12}\\chi_{14}\\chi_{18}\\chi_{19} + 0.000+0.100j\\left(\\chi_{0}\\chi_{10} + \\chi_{1}\\chi_{11} + \\chi_{2}\\chi_{12} + \\chi_{3}\\chi_{13} + \\chi_{4}\\chi_{14} + \\chi_{5}\\chi_{15} + \\chi_{6}\\chi_{16} + \\chi_{7}\\chi_{17} + \\chi_{8}\\chi_{18} + \\chi_{9}\\chi_{19}\\right)$"
      ],
      "text/plain": [
       "<IPython.core.display.Math object>"
      ]
     },
     "metadata": {},
     "output_type": "display_data"
    }
   ],
   "source": [
    "hyperedges = regular_hypergraph(N, k, q, 0)\n",
    "\n",
    "H_uncoupled = hamiltonian_uncoupled(N, k, q, hyperedges, 0)\n",
    "\n",
    "H_coupled = op_sum([H_uncoupled, hamiltonian_int(N, k, q, mu)])\n",
    "\n",
    "print(H_coupled.table())\n",
    "print_tex(H_coupled)"
   ]
  },
  {
   "cell_type": "markdown",
   "metadata": {},
   "source": [
    "### Find ground state of coupled Hamiltonian\n",
    "\n",
    "[Dynamite eigsolve](https://dynamite.readthedocs.io/en/latest/dynamite.computations.html) function allow us to extract the ground state of the coupled Hamiltonian"
   ]
  },
  {
   "cell_type": "code",
   "execution_count": 5,
   "metadata": {},
   "outputs": [],
   "source": [
    "def get_gs(H):\n",
    "    '''\n",
    "    Get ground state as a dynamite State object from a Hamiltonian H\n",
    "    '''\n",
    "    _, gs = eigsolve(H, getvecs=True, nev=1, tol=1e-5)\n",
    "    return gs[0]"
   ]
  },
  {
   "cell_type": "markdown",
   "metadata": {},
   "source": [
    "**Test get_gs function**"
   ]
  },
  {
   "cell_type": "code",
   "execution_count": 6,
   "metadata": {},
   "outputs": [
    {
     "name": "stdout",
     "output_type": "stream",
     "text": [
      "<dynamite.states.State object at 0x7f03bdcbd2b0>\n",
      "[ 1.28944939e-07-3.97682071e-08j -1.59249284e-03-3.30755319e-03j\n",
      "  9.90152432e-03+4.23225378e-02j  3.14378336e-08-1.22487297e-08j\n",
      "  7.95448604e-03-8.39430640e-03j -1.07816051e-07-1.15537535e-07j\n",
      " -3.57142938e-07-4.25214854e-07j  6.14974049e-03+2.30990461e-04j\n",
      " -1.93610786e-03-6.55935204e-03j  6.77945878e-08+4.30036455e-08j\n",
      " -5.51187043e-08-1.18239777e-07j -1.36399976e-02-5.13837128e-02j\n",
      "  9.90898178e-08+1.52318943e-07j -1.76027791e-02+1.09240587e-02j\n",
      "  4.14496828e-03+8.29160354e-04j -2.12702930e-07-3.04017495e-07j\n",
      "  3.73015588e-02-4.53277899e-03j -1.38376969e-08-1.47175913e-07j\n",
      "  9.99287020e-08+1.96197783e-07j  2.26246063e-02-6.64380586e-03j]...\n",
      "Size of ground state vector: (1024,)\n"
     ]
    }
   ],
   "source": [
    "# Ground state as dynamite object\n",
    "gs_test = get_gs(H_coupled)\n",
    "print(gs_test)\n",
    "\n",
    "# Some components of the explicit vector as a Numpy array\n",
    "print(str(gs_test.to_numpy()[:20])+'...')\n",
    "\n",
    "# Shape of ground state\n",
    "print(f'Size of ground state vector: {gs_test.to_numpy().shape}')"
   ]
  },
  {
   "cell_type": "markdown",
   "metadata": {},
   "source": [
    "### Evaluate overlap with TFD state\n",
    "\n",
    "1. Construct the coupled SYK Hamiltonian HL + HR + Hint.\n",
    "\n",
    "2. Find the ground state of H.\n",
    "\n",
    "3. Build the TFD state at infinite temperature TFD which has the form \n",
    "\n",
    "   $$|\\text{TFD}_0\\rangle \\equiv |I\\rangle$$\n",
    "\n",
    "   This is the same as the ground state of the interaction Hamiltonian Hint\n",
    "\n",
    "4. Then, we can obtain the TFD at finite temperature using imaginary time evolution\n",
    "    \n",
    "   $$|\\text{TFD}_\\beta\\rangle \\propto e^{-\\delta\\beta(H_L+H_R)/4}|I\\rangle$$\n",
    "   \n",
    "   with small increments $\\delta\\beta$. \n",
    "   \n",
    "5. Keep increasing $\\beta$ until the overlap with the ground state is maximized. \n",
    "\n",
    "The imaginary time evolution is performed using the function [`dynamite.computations.evolve`](https://dynamite.readthedocs.io/en/latest/dynamite.computations.html)."
   ]
  },
  {
   "cell_type": "code",
   "execution_count": 7,
   "metadata": {},
   "outputs": [],
   "source": [
    "def get_overlap(N, k, q, hyperedges, mu_values, random_seed):\n",
    "    '''\n",
    "    Input:\n",
    "        N - Number of Majoranas for single SYK\n",
    "        k - Sparisty parameter\n",
    "        q - Sets q-body interaction\n",
    "        mu_values - Array with strength of interaction between two SYKs\n",
    "        random_seed - Seed for sampling couplings J_{j_1...j_q}\n",
    "    \n",
    "    Returns: overlaps - Array with maximum overlap \n",
    "             betas - Array with inverse temperature that maximizes overlap \n",
    "    \n",
    "    Note: mu_array assumed to be in increasing order. \n",
    "    The algorithm starts from last value in mu_array.\n",
    "    '''\n",
    "    \n",
    "    # Uncoupled Hamiltonian mu=0\n",
    "    H0 = hamiltonian_uncoupled(N, k, q, hyperedges, random_seed) \n",
    "            \n",
    "    # TFD at infinite temperature \n",
    "    Hinf = hamiltonian_int(N, k, q, 100)\n",
    "    TFD = get_gs(Hinf)\n",
    "            \n",
    "    # Initial inverse temperature\n",
    "    beta = 0 \n",
    "    \n",
    "    overlaps = []\n",
    "    betas = []\n",
    "    \n",
    "    for mu in np.flip(mu_values):\n",
    "        \n",
    "        # Build coupled Hamiltonian\n",
    "        H = op_sum([H0, hamiltonian_int(N, k, q, mu)])\n",
    "        \n",
    "        # Get ground state of two coupled Hamiltonian\n",
    "        GS = get_gs(H)\n",
    "\n",
    "        # Search for beta(mu) that maximizes overlap\n",
    "        overlap = -1   # Just to enter the loop\n",
    "        overlap_new = 0\n",
    "        dbeta = 1 / (10 * mu) \n",
    "        dt = -1j * dbeta / 4 \n",
    "                \n",
    "        # Search for beta(mu) which maximizes the overlap\n",
    "        while overlap_new > overlap:\n",
    "            \n",
    "            overlap = overlap_new\n",
    "            beta += dbeta\n",
    "            H0.evolve(TFD, t=dt, result=TFD) \n",
    "            TFD.normalize()\n",
    "            overlap_new = abs(GS.dot(TFD)) \n",
    "            \n",
    "        overlaps.append(overlap)\n",
    "        betas.append(beta)\n",
    "\n",
    "    overlaps = np.flip(overlaps)\n",
    "    betas = np.flip(betas)\n",
    "    \n",
    "    return overlaps, betas"
   ]
  },
  {
   "cell_type": "markdown",
   "metadata": {},
   "source": [
    "**Test get_overlap function**"
   ]
  },
  {
   "cell_type": "code",
   "execution_count": 8,
   "metadata": {},
   "outputs": [
    {
     "name": "stdout",
     "output_type": "stream",
     "text": [
      "Values of mu:\n",
      "[0.03756104 0.04507324 0.05408789 0.06490547 0.07788657 0.09346388\n",
      " 0.11215665 0.13458799 0.16150558 0.1938067  0.23256804 0.27908165\n",
      " 0.33489798 0.40187757 0.48225309]\n",
      "Maximum overlap:\n",
      "[0.99610745 0.99454448 0.99237253 0.98939746 0.98535992 0.98001492\n",
      " 0.97345841 0.96756802 0.96743486 0.97363939 0.9818573  0.9889745\n",
      " 0.99377808 0.99684134 0.99838371]\n",
      "Inverse temperature:\n",
      "[53.35708536 48.0324187  43.59519649 38.04866872 33.42656225 28.29088839\n",
      " 21.87129607 15.63002575 10.42896716  7.95227259  5.88836045  4.59841536\n",
      "  3.8817792   2.985984    2.48832   ]\n"
     ]
    }
   ],
   "source": [
    "mu_values = 1.2**np.arange(15)/1.2**18\n",
    "\n",
    "print('Values of mu:')\n",
    "print(mu_values)\n",
    "      \n",
    "overlap_test, beta_test = get_overlap(N, k, q, hyperedges, mu_values, 0)\n",
    "\n",
    "print('Maximum overlap:')\n",
    "print(overlap_test)\n",
    "\n",
    "print('Inverse temperature:')\n",
    "print(beta_test)"
   ]
  },
  {
   "cell_type": "markdown",
   "metadata": {
    "tags": []
   },
   "source": [
    "### Evaluate average over different realizations of the random couplings"
   ]
  },
  {
   "cell_type": "code",
   "execution_count": 9,
   "metadata": {},
   "outputs": [
    {
     "name": "stdout",
     "output_type": "stream",
     "text": [
      "(50, 2, 15)\n",
      "CPU times: user 48.2 s, sys: 10.8 ms, total: 48.2 s\n",
      "Wall time: 48.2 s\n"
     ]
    }
   ],
   "source": [
    "%%time\n",
    "result = np.array([get_overlap(N, k, q, hyperedges, mu_values, s) for s in range(50)])\n",
    "print(result.shape)"
   ]
  },
  {
   "cell_type": "code",
   "execution_count": 10,
   "metadata": {},
   "outputs": [],
   "source": [
    "overlaps = result[:, 0, :]\n",
    "betas = result[:, 1, :]"
   ]
  },
  {
   "cell_type": "code",
   "execution_count": 11,
   "metadata": {
    "tags": []
   },
   "outputs": [],
   "source": [
    "# Evaluate mean and standard deviation\n",
    "overlaps_mean = np.mean(overlaps, axis=0)\n",
    "overlaps_std = np.std(overlaps, axis=0)\n",
    "betas_mean = np.mean(betas, axis=0)\n",
    "betas_std = np.std(betas, axis=0)"
   ]
  },
  {
   "cell_type": "markdown",
   "metadata": {},
   "source": [
    "### Plot results"
   ]
  },
  {
   "cell_type": "code",
   "execution_count": 12,
   "metadata": {},
   "outputs": [],
   "source": [
    "# Plotting settings\n",
    "mpl.rcParams['lines.linewidth'] = 2.0\n",
    "mpl.rcParams['axes.linewidth'] = 2.0\n",
    "plt.rc('font', size=18)          \n",
    "plt.rc('axes', titlesize=18)     \n",
    "plt.rc('axes', labelsize=22)   \n",
    "plt.rc('xtick', labelsize=18) \n",
    "plt.rc('ytick', labelsize=18)   \n",
    "plt.rc('legend', fontsize=18)  \n",
    "plt.rc('figure', titlesize=24) \n",
    "plt.rcParams['mathtext.fontset'] = 'dejavuserif'"
   ]
  },
  {
   "cell_type": "code",
   "execution_count": 13,
   "metadata": {},
   "outputs": [
    {
     "data": {
      "image/png": "[encoded data removed]",
      "text/plain": [
       "<Figure size 576x576 with 1 Axes>"
      ]
     },
     "metadata": {
      "needs_background": "light"
     },
     "output_type": "display_data"
    }
   ],
   "source": [
    "fig = plt.figure(figsize=(8, 8))\n",
    "ax = fig.add_subplot(1, 1, 1)\n",
    "\n",
    "x = mu_values\n",
    "y = overlaps_mean\n",
    "dy = overlaps_std\n",
    "plt.plot(x, y, '-', color='r', alpha=0.8)\n",
    "plt.fill_between(x, y-dy, y+dy, color='r', alpha=0.2)\n",
    "\n",
    "plt.title(r\"Overlap between TFD and ground state\")\n",
    "plt.xlabel(r'$\\mu$')\n",
    "plt.ylabel(r'Overlap')\n",
    "plt.xlim([mu_values.min(), mu_values.max()])\n",
    "plt.ylim([0.95, 1.001])\n",
    "plt.xscale('log')\n",
    "plt.show()"
   ]
  },
  {
   "cell_type": "code",
   "execution_count": 14,
   "metadata": {},
   "outputs": [
    {
     "data": {
      "image/png": "[encoded data removed]",
      "text/plain": [
       "<Figure size 576x576 with 1 Axes>"
      ]
     },
     "metadata": {
      "needs_background": "light"
     },
     "output_type": "display_data"
    }
   ],
   "source": [
    "fig = plt.figure(figsize=(8, 8))\n",
    "ax = fig.add_subplot(1, 1, 1)\n",
    "\n",
    "x = mu_values\n",
    "y = betas_mean\n",
    "dy = betas_std\n",
    "plt.plot(x, y, '-', color='r', alpha=0.8)\n",
    "plt.fill_between(x, y-dy, y+dy, color='r', alpha=0.2)\n",
    "\n",
    "plt.title(r\"Inverse temperature that maximizes overlap\")\n",
    "plt.xlabel(r'$\\mu$')\n",
    "plt.ylabel(r'$\\beta$')\n",
    "plt.xscale('log')\n",
    "plt.yscale('log')\n",
    "plt.xlim([mu_values.min(), mu_values.max()])\n",
    "plt.show()"
   ]
  }
 ],
 "metadata": {
  "kernelspec": {
   "display_name": "Python 3 (ipykernel)",
   "language": "python",
   "name": "python3"
  },
  "language_info": {
   "codemirror_mode": {
    "name": "ipython",
    "version": 3
   },
   "file_extension": ".py",
   "mimetype": "text/x-python",
   "name": "python",
   "nbconvert_exporter": "python",
   "pygments_lexer": "ipython3",
   "version": "3.8.12"
  }
 },
 "nbformat": 4,
 "nbformat_minor": 4
}
