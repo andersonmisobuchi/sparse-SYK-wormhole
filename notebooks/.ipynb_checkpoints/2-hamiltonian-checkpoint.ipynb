{
 "cells": [
  {
   "cell_type": "markdown",
   "id": "d6371af7-68ab-40f4-8221-48603c947679",
   "metadata": {},
   "source": [
    "# Sparse SYK Hamiltonian\n",
    "\n",
    "In this notebook we construct the Hamiltonian for the sparse SYK model whose interactions are defined via a $(kq, q)$-regular hypergraph.\n",
    "\n",
    "We make use of the Python library [dynamite](https://dynamite.readthedocs.io/en/latest/index.html) and the implementation is based on [this notebook](https://github.com/GregDMeyer/dynamite/blob/master/examples/1-BuildingOperators.ipynb)."
   ]
  },
  {
   "cell_type": "code",
   "execution_count": 1,
   "id": "24fa7817-c013-4476-b769-15b9b077799c",
   "metadata": {},
   "outputs": [],
   "source": [
    "import numpy as np\n",
    "from scipy.special import binom\n",
    "from math import factorial\n",
    "from itertools import combinations\n",
    "from dynamite.extras import majorana\n",
    "from dynamite.operators import op_sum, op_product\n",
    "from dynamite import config\n",
    "from IPython.display import display, Math\n",
    "\n",
    "import sys\n",
    "sys.path.append('..')\n",
    "from Hypergraph import regular_hypergraph"
   ]
  },
  {
   "cell_type": "markdown",
   "id": "f19c459c-b5f3-45c2-87c6-fc50aeae9a98",
   "metadata": {},
   "source": [
    "### Set test parameters"
   ]
  },
  {
   "cell_type": "code",
   "execution_count": 2,
   "id": "6540f228-0a76-4ac2-896e-29979cb72a98",
   "metadata": {},
   "outputs": [],
   "source": [
    "N = 8             # Number of Majorana fermions\n",
    "k = 1             # Sparsity parameters\n",
    "q = 4             # q-body interactions\n",
    "config.L = N//2   # N Majoranas -> N/2 qubits"
   ]
  },
  {
   "cell_type": "markdown",
   "id": "a160f530-084c-423d-8d18-620fea76d275",
   "metadata": {},
   "source": [
    "### Majorana fermions\n",
    "\n",
    "Majorana fermions are their on antiparticle, $\\chi_i=\\chi_i^\\dagger$, and they obey the anticommutation relation $\\{\\chi_i,\\chi_j\\} = 2\\delta_{ij}$. The factor of 2 is a convention and it may differ depending on the author. Using the so-called **Jordan-Wigner transformation**, we can map $N$ Majorana fermions into $N$ Pauli string operators, where each Pauli operator acts on $N/2$ qubits.\n",
    "\n",
    "**Pauli matrices:**\n",
    "\n",
    "$$\\sigma^x = \\begin{pmatrix} 0 & 1 \\\\ 1 & 0\\end{pmatrix}, \\quad \\sigma^y = \\begin{pmatrix} 0 & -i \\\\ i & 0\\end{pmatrix}, \\quad \\sigma^z = \\begin{pmatrix} 1 & 0 \\\\ 0 & -1\\end{pmatrix}$$\n",
    "\n",
    "**Jordan-Wigner Transformation:**\n",
    "\n",
    "$$\\chi_{2n} = \\left(\\prod_{j=1}^{n-1}\\sigma_j^x\\right)\\sigma_n^z, \\quad \\chi_{2n-1} = \\left(\\prod_{j=1}^{n-1}\\sigma_j^x\\right)\\sigma_n^y\n",
    "    , \\qquad \\{\\chi_i,\\chi_j\\} = 2\\delta_{ij}$$\n",
    "\n",
    "The index $i=1,....,N$ labels the $i$th Majorana fermion, and we splitted into even $(i=2n)$ and odd $(i=2n-1)$ cases. In the above expression, it is understood that products represent tensor products, so that so that each Majorana fermion is represented by a $2^{N/2}\\times 2^{N/2}$ matrix."
   ]
  },
  {
   "cell_type": "code",
   "execution_count": 3,
   "id": "f6c44a6f-f6b7-4024-bdb7-dd983fa67496",
   "metadata": {},
   "outputs": [
    {
     "name": "stdout",
     "output_type": "stream",
     "text": [
      "   coeff. | operator \n",
      "=====================\n",
      "    1.000 | ZZX-\n",
      "Shape of χ[4] is (16, 16)\n"
     ]
    }
   ],
   "source": [
    "# Example: 4th majorana\n",
    "maj = majorana(4)\n",
    "print(maj.table())\n",
    "\n",
    "# Matrix representation. Sparse=False to avoid the sparse representation used by Scipy\n",
    "maj_matrix = maj.to_numpy(sparse=False)\n",
    "print(f'Shape of {maj} is {maj_matrix.shape}')"
   ]
  },
  {
   "cell_type": "markdown",
   "id": "b31a7948-3aa3-4be1-9ba7-843e4eadd9b6",
   "metadata": {
    "tags": []
   },
   "source": [
    "### SYK Hamiltonian - Standard version\n",
    "\n",
    "The original, \"all-to-all\", [Sachdev-Ye-Kitaev (SYK)](https://online.kitp.ucsb.edu/online/entangled15/kitaev/) Hamiltonian for a system of $N$ Majorana fermions with $q$-body interactions and random couplings $J_{j_1,\\ldots, j_q}$ is defined as\n",
    "\n",
    "$$H = i^{q/2}\\sum_{1\\leq j_1<\\ldots <j_q\\leq N}J_{j_1\\ldots j_q}\\chi_{j_1}\\ldots\\chi_{j_q}. $$\n",
    "\n",
    "The couplings $J_{j_1,\\ldots, j_q}$ are sampled from a normal distribution with zero mean and variance given by\n",
    "$$\\langle \\left(J_{j_1\\ldots j_q}\\right)^2\\rangle_\\text{all-to-all} = \\frac{(q-1)!J^2}{N^{q-1}},$$\n",
    "\n",
    "where $J$ is a constant setting the energy scale of the model.\n",
    "\n",
    "**Implementation on dynamite**"
   ]
  },
  {
   "cell_type": "code",
   "execution_count": 4,
   "id": "7a46724e-e45e-4c6f-a579-38d1623a4230",
   "metadata": {},
   "outputs": [],
   "source": [
    "def hamiltonian_kitaev(N, q, random_seed):\n",
    "    \n",
    "    # Set seed to generate random couplings Jijkl\n",
    "    np.random.seed(random_seed)\n",
    "    \n",
    "    # Interaction terms in the Hamiltonian\n",
    "    comb = combinations(np.arange(N), q)\n",
    "    \n",
    "    # Use variance with convention J=1\n",
    "    hyperedges = tuple([i for i in comb])\n",
    "    couplings = np.sqrt(factorial(q-1) / (N**(q-1) * 2**q) )*np.random.randn(len(hyperedges))\n",
    "    \n",
    "    # Create a dictionary to map a hyperedge to the random coupling\n",
    "    factor = dict(zip(hyperedges, couplings))\n",
    "    \n",
    "    # Evaluate majoranas before building Hamiltonian\n",
    "    majs = [majorana(i) for i in range(N)]\n",
    "\n",
    "    return op_sum((op_product(majs[i] for i in idxs).scale(factor[idxs]) for idxs in hyperedges), nshow=len(hyperedges))"
   ]
  },
  {
   "cell_type": "markdown",
   "id": "c6b7d0aa-4875-4cec-b0fb-cfd301d688ba",
   "metadata": {},
   "source": [
    "**Visualize Hamiltonian**"
   ]
  },
  {
   "cell_type": "code",
   "execution_count": 5,
   "id": "50b24dd2-f357-4243-ac31-691c9640aca9",
   "metadata": {},
   "outputs": [
    {
     "name": "stdout",
     "output_type": "stream",
     "text": [
      "All-to-all hamiltonian:\n"
     ]
    },
    {
     "data": {
      "text/latex": [
       "$\\displaystyle 0.048\\chi_{0}\\chi_{1}\\chi_{2}\\chi_{3} + 0.011\\chi_{0}\\chi_{1}\\chi_{2}\\chi_{4} + 0.026\\chi_{0}\\chi_{1}\\chi_{2}\\chi_{5} + 0.061\\chi_{0}\\chi_{1}\\chi_{2}\\chi_{6} + 0.051\\chi_{0}\\chi_{1}\\chi_{2}\\chi_{7} -0.026\\chi_{0}\\chi_{1}\\chi_{3}\\chi_{4} + 0.026\\chi_{0}\\chi_{1}\\chi_{3}\\chi_{5} -0.004\\chi_{0}\\chi_{1}\\chi_{3}\\chi_{6} -0.003\\chi_{0}\\chi_{1}\\chi_{3}\\chi_{7} + 0.011\\chi_{0}\\chi_{1}\\chi_{4}\\chi_{5} + 0.004\\chi_{0}\\chi_{1}\\chi_{4}\\chi_{6} + 0.039\\chi_{0}\\chi_{1}\\chi_{4}\\chi_{7} + 0.021\\chi_{0}\\chi_{1}\\chi_{5}\\chi_{6} + 0.003\\chi_{0}\\chi_{1}\\chi_{5}\\chi_{7} + 0.012\\chi_{0}\\chi_{1}\\chi_{6}\\chi_{7} + 0.009\\chi_{0}\\chi_{2}\\chi_{3}\\chi_{4} + 0.040\\chi_{0}\\chi_{2}\\chi_{3}\\chi_{5} -0.006\\chi_{0}\\chi_{2}\\chi_{3}\\chi_{6} + 0.008\\chi_{0}\\chi_{2}\\chi_{3}\\chi_{7} -0.023\\chi_{0}\\chi_{2}\\chi_{4}\\chi_{5} -0.069\\chi_{0}\\chi_{2}\\chi_{4}\\chi_{6} + 0.018\\chi_{0}\\chi_{2}\\chi_{4}\\chi_{7} + 0.023\\chi_{0}\\chi_{2}\\chi_{5}\\chi_{6} -0.020\\chi_{0}\\chi_{2}\\chi_{5}\\chi_{7} + 0.061\\chi_{0}\\chi_{2}\\chi_{6}\\chi_{7} -0.039\\chi_{0}\\chi_{3}\\chi_{4}\\chi_{5} + 0.001\\chi_{0}\\chi_{3}\\chi_{4}\\chi_{6} -0.005\\chi_{0}\\chi_{3}\\chi_{4}\\chi_{7} + 0.041\\chi_{0}\\chi_{3}\\chi_{5}\\chi_{6} + 0.040\\chi_{0}\\chi_{3}\\chi_{5}\\chi_{7} + 0.004\\chi_{0}\\chi_{3}\\chi_{6}\\chi_{7} + 0.010\\chi_{0}\\chi_{4}\\chi_{5}\\chi_{6} -0.024\\chi_{0}\\chi_{4}\\chi_{5}\\chi_{7} -0.054\\chi_{0}\\chi_{4}\\chi_{6}\\chi_{7} -0.009\\chi_{0}\\chi_{5}\\chi_{6}\\chi_{7} + 0.004\\chi_{1}\\chi_{2}\\chi_{3}\\chi_{4} + 0.033\\chi_{1}\\chi_{2}\\chi_{3}\\chi_{5} + 0.033\\chi_{1}\\chi_{2}\\chi_{3}\\chi_{6} -0.010\\chi_{1}\\chi_{2}\\chi_{3}\\chi_{7} -0.008\\chi_{1}\\chi_{2}\\chi_{4}\\chi_{5} -0.028\\chi_{1}\\chi_{2}\\chi_{4}\\chi_{6} -0.038\\chi_{1}\\chi_{2}\\chi_{4}\\chi_{7} -0.046\\chi_{1}\\chi_{2}\\chi_{5}\\chi_{6} + 0.053\\chi_{1}\\chi_{2}\\chi_{5}\\chi_{7} -0.014\\chi_{1}\\chi_{2}\\chi_{6}\\chi_{7} -0.012\\chi_{1}\\chi_{3}\\chi_{4}\\chi_{5} -0.034\\chi_{1}\\chi_{3}\\chi_{4}\\chi_{6} + 0.021\\chi_{1}\\chi_{3}\\chi_{4}\\chi_{7} -0.044\\chi_{1}\\chi_{3}\\chi_{5}\\chi_{6} -0.006\\chi_{1}\\chi_{3}\\chi_{5}\\chi_{7} -0.024\\chi_{1}\\chi_{3}\\chi_{6}\\chi_{7} + 0.010\\chi_{1}\\chi_{4}\\chi_{5}\\chi_{6} -0.014\\chi_{1}\\chi_{4}\\chi_{5}\\chi_{7} -0.032\\chi_{1}\\chi_{4}\\chi_{6}\\chi_{7} -0.001\\chi_{1}\\chi_{5}\\chi_{6}\\chi_{7} + 0.012\\chi_{2}\\chi_{3}\\chi_{4}\\chi_{5} + 0.002\\chi_{2}\\chi_{3}\\chi_{4}\\chi_{6} + 0.008\\chi_{2}\\chi_{3}\\chi_{4}\\chi_{7} -0.017\\chi_{2}\\chi_{3}\\chi_{5}\\chi_{6} -0.010\\chi_{2}\\chi_{3}\\chi_{5}\\chi_{7} -0.018\\chi_{2}\\chi_{3}\\chi_{6}\\chi_{7} -0.010\\chi_{2}\\chi_{4}\\chi_{5}\\chi_{6} -0.022\\chi_{2}\\chi_{4}\\chi_{5}\\chi_{7} -0.047\\chi_{2}\\chi_{4}\\chi_{6}\\chi_{7} + 0.005\\chi_{2}\\chi_{5}\\chi_{6}\\chi_{7} -0.011\\chi_{3}\\chi_{4}\\chi_{5}\\chi_{6} -0.044\\chi_{3}\\chi_{4}\\chi_{5}\\chi_{7} + 0.013\\chi_{3}\\chi_{4}\\chi_{6}\\chi_{7} -0.025\\chi_{3}\\chi_{5}\\chi_{6}\\chi_{7} + 0.001\\chi_{4}\\chi_{5}\\chi_{6}\\chi_{7}$"
      ],
      "text/plain": [
       "<IPython.core.display.Math object>"
      ]
     },
     "metadata": {},
     "output_type": "display_data"
    },
    {
     "name": "stdout",
     "output_type": "stream",
     "text": [
      "\n",
      "\n",
      "All-to-all Hamiltonian with Jordan-Wigner representation:\n",
      "   coeff. | operator \n",
      "=====================\n",
      "   -0.048 | ZZ--\n",
      "    0.011 | ZYX-\n",
      "    0.026 | ZYY-\n",
      "    0.061 | ZYZX\n",
      "    0.051 | ZYZY\n",
      "    0.026 | ZXX-\n",
      "   -0.026 | ZXY-\n",
      " 4.10e-03 | ZXZX\n",
      " 2.79e-03 | ZXZY\n",
      "   -0.011 | Z-Z-\n",
      " 3.90e-03 | Z-YX\n",
      "    0.039 | Z-YY\n",
      "   -0.021 | Z-XX\n",
      " -3.29e-03 | Z-XY\n",
      "   -0.012 | Z--Z\n",
      " 9.03e-03 | Y-X-\n",
      "    0.040 | Y-Y-\n",
      " -5.55e-03 | Y-ZX\n",
      " 8.47e-03 | Y-ZY\n",
      "   -0.023 | YXZ-\n",
      "    0.069 | YXYX\n",
      "   -0.018 | YXYY\n",
      "    0.023 | YXXX\n",
      "   -0.020 | YXXY\n",
      "    0.061 | YX-Z\n",
      "   -0.039 | YYZ-\n",
      " -1.24e-03 | YYYX\n",
      " 5.07e-03 | YYYY\n",
      "    0.041 | YYXX\n",
      "    0.040 | YYXY\n",
      " 4.19e-03 | YY-Z\n",
      "    0.010 | YZ-X\n",
      "   -0.024 | YZ-Y\n",
      "   -0.054 | YZXZ\n",
      " -9.42e-03 | YZYZ\n",
      " -4.23e-03 | X-X-\n",
      "   -0.033 | X-Y-\n",
      "   -0.033 | X-ZX\n",
      "    0.010 | X-ZY\n",
      " 8.18e-03 | XXZ-\n",
      "   -0.028 | XXYX\n",
      "   -0.038 | XXYY\n",
      "    0.046 | XXXX\n",
      "   -0.053 | XXXY\n",
      "    0.014 | XX-Z\n",
      "    0.012 | XYZ-\n",
      "   -0.034 | XYYX\n",
      "    0.021 | XYYY\n",
      "    0.044 | XYXX\n",
      " 5.76e-03 | XYXY\n",
      "    0.024 | XY-Z\n",
      "   -0.010 | XZ-X\n",
      "    0.014 | XZ-Y\n",
      "    0.032 | XZXZ\n",
      " 7.63e-04 | XZYZ\n",
      "   -0.012 | -ZZ-\n",
      " 1.80e-03 | -ZYX\n",
      " 8.19e-03 | -ZYY\n",
      "    0.017 | -ZXX\n",
      " 9.82e-03 | -ZXY\n",
      "    0.018 | -Z-Z\n",
      " -9.73e-03 | -Y-X\n",
      "   -0.022 | -Y-Y\n",
      "   -0.047 | -YXZ\n",
      " 4.80e-03 | -YYZ\n",
      "    0.011 | -X-X\n",
      "    0.044 | -X-Y\n",
      "   -0.013 | -XXZ\n",
      "    0.025 | -XYZ\n",
      " -1.41e-03 | --ZZ\n"
     ]
    }
   ],
   "source": [
    "H_all = hamiltonian_kitaev(N, q, 0)\n",
    "\n",
    "def print_tex(H):\n",
    "    # Clean expression for Hamiltonian output\n",
    "    simplified_str = H.get_latex().replace('*', '').replace('-+', '-').replace('+ -', '-')\n",
    "    return display(Math(simplified_str))\n",
    "\n",
    "print('All-to-all hamiltonian:')\n",
    "print_tex(H_all)\n",
    "print('\\n')\n",
    "print('All-to-all Hamiltonian with Jordan-Wigner representation:')\n",
    "print(H_all.table())"
   ]
  },
  {
   "cell_type": "code",
   "execution_count": 6,
   "id": "63f43fc2-ef62-48e7-8a34-8d9fef4394fb",
   "metadata": {},
   "outputs": [
    {
     "data": {
      "image/png": "[encoded data removed]",
      "text/plain": [
       "<Figure size 432x288 with 1 Axes>"
      ]
     },
     "metadata": {
      "needs_background": "light"
     },
     "output_type": "display_data"
    }
   ],
   "source": [
    "# Display 2^(N/2) x 2^(N/2) matrix representation\n",
    "# Black means the entry is non-zero\n",
    "H_all.spy()"
   ]
  },
  {
   "cell_type": "markdown",
   "id": "2b6d0005-8930-48cc-89f0-a539930065eb",
   "metadata": {},
   "source": [
    "### SYK Hamiltonian - Sparse version\n",
    "\n",
    "[Xu, Susskind, Su, and Swingle](https://arxiv.org/abs/2008.02303) proposed a sparse version of the SYK Hamiltonian in which we 'delete' terms of the Hamiltonian and keep only a few of them. the main claim is that we can keep only a small portion of order $N$ terms and still reproduce the properties of the original SYK model. Formally, the Hamiltonian for the sparse SYK model can be defined as\n",
    "\n",
    "$$H = i^{q/2}\\sum_{j_1<\\ldots <j_q}J_{j_1\\ldots j_q}x_{j_1\\ldots j_q}\\chi_{j_1}\\ldots\\chi_{j_q},$$\n",
    "\n",
    "where the variable $x_{j_1\\ldots j_q}=0$ if we choose to delete the corresponding term in the Hamiltonian and $x_{j_1\\ldots j_q}=1$ if we keep it. The random coupling are still sampled from a normal distribution with zero mean, but we need to rescale the variace as\n",
    "$$\\langle \\left(J_{j_1\\ldots j_q}\\right)^2\\rangle = \\frac{(q-1)!J^2}{pN^{q-1}}$$\n",
    "\n",
    "The parameter $p$ is just the fraction of terms that we keep compared to the number of terms in the original all-to-all model. It is convenient to define a 'sparsity parameter' $k$ as\n",
    "\n",
    "$$k = \\frac{p}{N}\\binom{N}{q},$$\n",
    "\n",
    "such that as $k$ becomes smaller the system becomes more sparse.\n",
    "\n",
    "**Implementation on dynamite**"
   ]
  },
  {
   "cell_type": "code",
   "execution_count": 7,
   "id": "3ed42a5e-3a49-4c43-b7e4-f0cfcdd83202",
   "metadata": {},
   "outputs": [],
   "source": [
    "# Sparse SYK Hamiltonian\n",
    "def hamiltonian_sparse(N, k, q, hyperedges, random_seed):\n",
    "    '''\n",
    "    Build the q-SYK Hamiltonian for a system of N Majoranas with sparsity\n",
    "    parameter k such that Hamiltonian is a sum of kN terms.\n",
    "    '''\n",
    "    # Set seed to generate random couplings Jijkl\n",
    "    np.random.seed(random_seed)\n",
    "    \n",
    "    # Use variance with convention J=1\n",
    "    p = k * N / binom(N, q)\n",
    "    couplings = np.sqrt(factorial(q-1) / (p * N**(q-1) * 2**q))*np.random.randn(len(hyperedges))\n",
    "    \n",
    "    # Create a dictionary to map a hyperedge to the random coupling\n",
    "    factor = dict(zip(hyperedges, couplings))\n",
    "    \n",
    "    # Evaluate majoranas before building Hamiltonian\n",
    "    majs = [majorana(i) for i in range(N)]\n",
    "\n",
    "    return op_sum((op_product(majs[i] for i in idxs).scale(factor[idxs]) for idxs in hyperedges), nshow=k*N)"
   ]
  },
  {
   "cell_type": "markdown",
   "id": "b2e4f3f2-8697-48ab-8637-eedb8cd08780",
   "metadata": {},
   "source": [
    "**Visualize Hamiltonian**"
   ]
  },
  {
   "cell_type": "code",
   "execution_count": 8,
   "id": "0471771c-fd61-4abe-90fc-ba2ae6b2d86a",
   "metadata": {},
   "outputs": [
    {
     "name": "stdout",
     "output_type": "stream",
     "text": [
      "Sparse hamiltonian:\n"
     ]
    },
    {
     "data": {
      "text/latex": [
       "$\\displaystyle 0.141\\chi_{1}\\chi_{2}\\chi_{4}\\chi_{6} + 0.032\\chi_{0}\\chi_{4}\\chi_{6}\\chi_{7} + 0.078\\chi_{0}\\chi_{2}\\chi_{3}\\chi_{4} + 0.179\\chi_{0}\\chi_{1}\\chi_{6}\\chi_{7} + 0.150\\chi_{1}\\chi_{2}\\chi_{3}\\chi_{5} -0.078\\chi_{1}\\chi_{5}\\chi_{6}\\chi_{7} + 0.076\\chi_{0}\\chi_{2}\\chi_{3}\\chi_{5} -0.012\\chi_{3}\\chi_{4}\\chi_{5}\\chi_{7}$"
      ],
      "text/plain": [
       "<IPython.core.display.Math object>"
      ]
     },
     "metadata": {},
     "output_type": "display_data"
    },
    {
     "name": "stdout",
     "output_type": "stream",
     "text": [
      "\n",
      "\n",
      "Sparse Hamiltonian with Jordan-Wigner representation:\n",
      "   coeff. | operator \n",
      "=====================\n",
      "    0.141 | XXYX\n",
      "    0.032 | YZXZ\n",
      "    0.078 | Y-X-\n",
      "   -0.179 | Z--Z\n",
      "   -0.150 | X-Y-\n",
      "    0.078 | XZYZ\n",
      "    0.076 | Y-Y-\n",
      "    0.012 | -X-Y\n"
     ]
    }
   ],
   "source": [
    "hyperedges = regular_hypergraph(N, k, q, 0)\n",
    "H_sparse = hamiltonian_sparse(N, k, q, hyperedges, 0)\n",
    "\n",
    "print('Sparse hamiltonian:')\n",
    "print_tex(H_sparse)\n",
    "print('\\n')\n",
    "print('Sparse Hamiltonian with Jordan-Wigner representation:')\n",
    "print(H_sparse.table())"
   ]
  },
  {
   "cell_type": "code",
   "execution_count": 9,
   "id": "bbf318bd-235d-42c6-a310-ebeca0fca455",
   "metadata": {},
   "outputs": [
    {
     "data": {
      "image/png": "[encoded data removed]",
      "text/plain": [
       "<Figure size 432x288 with 1 Axes>"
      ]
     },
     "metadata": {
      "needs_background": "light"
     },
     "output_type": "display_data"
    }
   ],
   "source": [
    "# Display 2^(N/2) x 2^(N/2) matrix representation\n",
    "# Black means the entry is non-zero\n",
    "H_sparse.spy()"
   ]
  }
 ],
 "metadata": {
  "kernelspec": {
   "display_name": "Python 3 (ipykernel)",
   "language": "python",
   "name": "python3"
  },
  "language_info": {
   "codemirror_mode": {
    "name": "ipython",
    "version": 3
   },
   "file_extension": ".py",
   "mimetype": "text/x-python",
   "name": "python",
   "nbconvert_exporter": "python",
   "pygments_lexer": "ipython3",
   "version": "3.8.12"
  }
 },
 "nbformat": 4,
 "nbformat_minor": 5
}
